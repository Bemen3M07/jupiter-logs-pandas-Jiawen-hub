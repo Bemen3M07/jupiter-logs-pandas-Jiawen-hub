{
 "cells": [
  {
   "cell_type": "code",
   "execution_count": 7,
   "id": "866f8116-b0c1-4f81-96f0-7df625fc2eb4",
   "metadata": {},
   "outputs": [
    {
     "name": "stderr",
     "output_type": "stream",
     "text": [
      "2024-11-22 18:59:26,182 - ERROR - Error en l'operació. Codi: E583\n"
     ]
    },
    {
     "name": "stdout",
     "output_type": "stream",
     "text": [
      "ERROR: Error en l'operació. Codi: E583\n"
     ]
    },
    {
     "name": "stderr",
     "output_type": "stream",
     "text": [
      "2024-11-22 18:59:28,185 - ERROR - Error en l'operació. Codi: E476\n"
     ]
    },
    {
     "name": "stdout",
     "output_type": "stream",
     "text": [
      "ERROR: Error en l'operació. Codi: E476\n"
     ]
    },
    {
     "name": "stderr",
     "output_type": "stream",
     "text": [
      "2024-11-22 18:59:30,189 - INFO - Operació completada amb èxit. ID: 2546\n"
     ]
    },
    {
     "name": "stdout",
     "output_type": "stream",
     "text": [
      "INFO: Operació completada amb èxit. ID: 2546\n"
     ]
    },
    {
     "name": "stderr",
     "output_type": "stream",
     "text": [
      "2024-11-22 18:59:32,190 - INFO - Operació completada amb èxit. ID: 5957\n"
     ]
    },
    {
     "name": "stdout",
     "output_type": "stream",
     "text": [
      "INFO: Operació completada amb èxit. ID: 5957\n"
     ]
    },
    {
     "name": "stderr",
     "output_type": "stream",
     "text": [
      "2024-11-22 18:59:34,195 - ERROR - Error en l'operació. Codi: E440\n"
     ]
    },
    {
     "name": "stdout",
     "output_type": "stream",
     "text": [
      "ERROR: Error en l'operació. Codi: E440\n"
     ]
    },
    {
     "name": "stderr",
     "output_type": "stream",
     "text": [
      "2024-11-22 18:59:36,200 - ERROR - Error en l'operació. Codi: E429\n"
     ]
    },
    {
     "name": "stdout",
     "output_type": "stream",
     "text": [
      "ERROR: Error en l'operació. Codi: E429\n"
     ]
    },
    {
     "name": "stderr",
     "output_type": "stream",
     "text": [
      "2024-11-22 18:59:38,202 - ERROR - Error en l'operació. Codi: E730\n"
     ]
    },
    {
     "name": "stdout",
     "output_type": "stream",
     "text": [
      "ERROR: Error en l'operació. Codi: E730\n"
     ]
    },
    {
     "name": "stderr",
     "output_type": "stream",
     "text": [
      "2024-11-22 18:59:40,206 - INFO - Operació completada amb èxit. ID: 7946\n"
     ]
    },
    {
     "name": "stdout",
     "output_type": "stream",
     "text": [
      "INFO: Operació completada amb èxit. ID: 7946\n"
     ]
    },
    {
     "name": "stderr",
     "output_type": "stream",
     "text": [
      "2024-11-22 18:59:42,211 - INFO - Operació completada amb èxit. ID: 7086\n"
     ]
    },
    {
     "name": "stdout",
     "output_type": "stream",
     "text": [
      "INFO: Operació completada amb èxit. ID: 7086\n"
     ]
    },
    {
     "name": "stderr",
     "output_type": "stream",
     "text": [
      "2024-11-22 18:59:44,215 - ERROR - Error en l'operació. Codi: E210\n"
     ]
    },
    {
     "name": "stdout",
     "output_type": "stream",
     "text": [
      "ERROR: Error en l'operació. Codi: E210\n"
     ]
    },
    {
     "name": "stderr",
     "output_type": "stream",
     "text": [
      "2024-11-22 18:59:46,221 - ERROR - Error en l'operació. Codi: E680\n"
     ]
    },
    {
     "name": "stdout",
     "output_type": "stream",
     "text": [
      "ERROR: Error en l'operació. Codi: E680\n"
     ]
    },
    {
     "name": "stderr",
     "output_type": "stream",
     "text": [
      "2024-11-22 18:59:48,225 - ERROR - Error en l'operació. Codi: E106\n"
     ]
    },
    {
     "name": "stdout",
     "output_type": "stream",
     "text": [
      "ERROR: Error en l'operació. Codi: E106\n"
     ]
    },
    {
     "name": "stderr",
     "output_type": "stream",
     "text": [
      "2024-11-22 18:59:50,229 - ERROR - Error en l'operació. Codi: E357\n"
     ]
    },
    {
     "name": "stdout",
     "output_type": "stream",
     "text": [
      "ERROR: Error en l'operació. Codi: E357\n"
     ]
    },
    {
     "name": "stderr",
     "output_type": "stream",
     "text": [
      "2024-11-22 18:59:52,234 - ERROR - Error en l'operació. Codi: E212\n"
     ]
    },
    {
     "name": "stdout",
     "output_type": "stream",
     "text": [
      "ERROR: Error en l'operació. Codi: E212\n"
     ]
    },
    {
     "name": "stderr",
     "output_type": "stream",
     "text": [
      "2024-11-22 18:59:54,236 - INFO - Operació completada amb èxit. ID: 2712\n"
     ]
    },
    {
     "name": "stdout",
     "output_type": "stream",
     "text": [
      "INFO: Operació completada amb èxit. ID: 2712\n"
     ]
    },
    {
     "name": "stderr",
     "output_type": "stream",
     "text": [
      "2024-11-22 18:59:56,240 - ERROR - Error en l'operació. Codi: E828\n"
     ]
    },
    {
     "name": "stdout",
     "output_type": "stream",
     "text": [
      "ERROR: Error en l'operació. Codi: E828\n"
     ]
    },
    {
     "name": "stderr",
     "output_type": "stream",
     "text": [
      "2024-11-22 18:59:58,245 - INFO - Operació completada amb èxit. ID: 4613\n"
     ]
    },
    {
     "name": "stdout",
     "output_type": "stream",
     "text": [
      "INFO: Operació completada amb èxit. ID: 4613\n"
     ]
    },
    {
     "name": "stderr",
     "output_type": "stream",
     "text": [
      "2024-11-22 19:00:00,248 - ERROR - Error en l'operació. Codi: E582\n"
     ]
    },
    {
     "name": "stdout",
     "output_type": "stream",
     "text": [
      "ERROR: Error en l'operació. Codi: E582\n"
     ]
    },
    {
     "name": "stderr",
     "output_type": "stream",
     "text": [
      "2024-11-22 19:00:02,251 - INFO - Operació completada amb èxit. ID: 5388\n"
     ]
    },
    {
     "name": "stdout",
     "output_type": "stream",
     "text": [
      "INFO: Operació completada amb èxit. ID: 5388\n"
     ]
    },
    {
     "name": "stderr",
     "output_type": "stream",
     "text": [
      "2024-11-22 19:00:04,253 - ERROR - Error en l'operació. Codi: E717\n"
     ]
    },
    {
     "name": "stdout",
     "output_type": "stream",
     "text": [
      "ERROR: Error en l'operació. Codi: E717\n"
     ]
    },
    {
     "name": "stderr",
     "output_type": "stream",
     "text": [
      "2024-11-22 19:00:06,255 - ERROR - Error en l'operació. Codi: E734\n"
     ]
    },
    {
     "name": "stdout",
     "output_type": "stream",
     "text": [
      "ERROR: Error en l'operació. Codi: E734\n"
     ]
    },
    {
     "name": "stderr",
     "output_type": "stream",
     "text": [
      "2024-11-22 19:00:08,257 - INFO - Operació completada amb èxit. ID: 6315\n"
     ]
    },
    {
     "name": "stdout",
     "output_type": "stream",
     "text": [
      "INFO: Operació completada amb èxit. ID: 6315\n"
     ]
    },
    {
     "name": "stderr",
     "output_type": "stream",
     "text": [
      "2024-11-22 19:00:10,260 - ERROR - Error en l'operació. Codi: E269\n"
     ]
    },
    {
     "name": "stdout",
     "output_type": "stream",
     "text": [
      "ERROR: Error en l'operació. Codi: E269\n"
     ]
    },
    {
     "name": "stderr",
     "output_type": "stream",
     "text": [
      "2024-11-22 19:00:12,264 - ERROR - Error en l'operació. Codi: E535\n"
     ]
    },
    {
     "name": "stdout",
     "output_type": "stream",
     "text": [
      "ERROR: Error en l'operació. Codi: E535\n"
     ]
    },
    {
     "name": "stderr",
     "output_type": "stream",
     "text": [
      "2024-11-22 19:00:14,268 - INFO - Operació completada amb èxit. ID: 7849\n"
     ]
    },
    {
     "name": "stdout",
     "output_type": "stream",
     "text": [
      "INFO: Operació completada amb èxit. ID: 7849\n"
     ]
    },
    {
     "name": "stderr",
     "output_type": "stream",
     "text": [
      "2024-11-22 19:00:16,272 - ERROR - Error en l'operació. Codi: E644\n"
     ]
    },
    {
     "name": "stdout",
     "output_type": "stream",
     "text": [
      "ERROR: Error en l'operació. Codi: E644\n"
     ]
    },
    {
     "name": "stderr",
     "output_type": "stream",
     "text": [
      "2024-11-22 19:00:18,276 - ERROR - Error en l'operació. Codi: E657\n"
     ]
    },
    {
     "name": "stdout",
     "output_type": "stream",
     "text": [
      "ERROR: Error en l'operació. Codi: E657\n"
     ]
    },
    {
     "name": "stderr",
     "output_type": "stream",
     "text": [
      "2024-11-22 19:00:20,281 - INFO - Operació completada amb èxit. ID: 9617\n"
     ]
    },
    {
     "name": "stdout",
     "output_type": "stream",
     "text": [
      "INFO: Operació completada amb èxit. ID: 9617\n"
     ]
    },
    {
     "name": "stderr",
     "output_type": "stream",
     "text": [
      "2024-11-22 19:00:22,286 - ERROR - Error en l'operació. Codi: E920\n"
     ]
    },
    {
     "name": "stdout",
     "output_type": "stream",
     "text": [
      "ERROR: Error en l'operació. Codi: E920\n"
     ]
    },
    {
     "name": "stderr",
     "output_type": "stream",
     "text": [
      "2024-11-22 19:00:24,290 - ERROR - Error en l'operació. Codi: E587\n"
     ]
    },
    {
     "name": "stdout",
     "output_type": "stream",
     "text": [
      "ERROR: Error en l'operació. Codi: E587\n"
     ]
    },
    {
     "name": "stderr",
     "output_type": "stream",
     "text": [
      "2024-11-22 19:00:26,292 - INFO - Operació completada amb èxit. ID: 9838\n"
     ]
    },
    {
     "name": "stdout",
     "output_type": "stream",
     "text": [
      "INFO: Operació completada amb èxit. ID: 9838\n"
     ]
    },
    {
     "name": "stderr",
     "output_type": "stream",
     "text": [
      "2024-11-22 19:00:28,294 - INFO - Operació completada amb èxit. ID: 1313\n"
     ]
    },
    {
     "name": "stdout",
     "output_type": "stream",
     "text": [
      "INFO: Operació completada amb èxit. ID: 1313\n"
     ]
    },
    {
     "name": "stderr",
     "output_type": "stream",
     "text": [
      "2024-11-22 19:00:30,298 - INFO - Operació completada amb èxit. ID: 3025\n"
     ]
    },
    {
     "name": "stdout",
     "output_type": "stream",
     "text": [
      "INFO: Operació completada amb èxit. ID: 3025\n"
     ]
    },
    {
     "name": "stderr",
     "output_type": "stream",
     "text": [
      "2024-11-22 19:00:32,302 - ERROR - Error en l'operació. Codi: E219\n"
     ]
    },
    {
     "name": "stdout",
     "output_type": "stream",
     "text": [
      "ERROR: Error en l'operació. Codi: E219\n"
     ]
    },
    {
     "name": "stderr",
     "output_type": "stream",
     "text": [
      "2024-11-22 19:00:34,307 - INFO - Operació completada amb èxit. ID: 6743\n"
     ]
    },
    {
     "name": "stdout",
     "output_type": "stream",
     "text": [
      "INFO: Operació completada amb èxit. ID: 6743\n"
     ]
    },
    {
     "name": "stderr",
     "output_type": "stream",
     "text": [
      "2024-11-22 19:00:36,311 - ERROR - Error en l'operació. Codi: E648\n"
     ]
    },
    {
     "name": "stdout",
     "output_type": "stream",
     "text": [
      "ERROR: Error en l'operació. Codi: E648\n"
     ]
    },
    {
     "name": "stderr",
     "output_type": "stream",
     "text": [
      "2024-11-22 19:00:38,315 - ERROR - Error en l'operació. Codi: E367\n"
     ]
    },
    {
     "name": "stdout",
     "output_type": "stream",
     "text": [
      "ERROR: Error en l'operació. Codi: E367\n"
     ]
    },
    {
     "name": "stderr",
     "output_type": "stream",
     "text": [
      "2024-11-22 19:00:40,320 - ERROR - Error en l'operació. Codi: E694\n"
     ]
    },
    {
     "name": "stdout",
     "output_type": "stream",
     "text": [
      "ERROR: Error en l'operació. Codi: E694\n"
     ]
    },
    {
     "name": "stderr",
     "output_type": "stream",
     "text": [
      "2024-11-22 19:00:42,321 - ERROR - Error en l'operació. Codi: E684\n"
     ]
    },
    {
     "name": "stdout",
     "output_type": "stream",
     "text": [
      "ERROR: Error en l'operació. Codi: E684\n"
     ]
    },
    {
     "name": "stderr",
     "output_type": "stream",
     "text": [
      "2024-11-22 19:00:44,326 - INFO - Operació completada amb èxit. ID: 8780\n"
     ]
    },
    {
     "name": "stdout",
     "output_type": "stream",
     "text": [
      "INFO: Operació completada amb èxit. ID: 8780\n"
     ]
    },
    {
     "name": "stderr",
     "output_type": "stream",
     "text": [
      "2024-11-22 19:00:46,330 - INFO - Operació completada amb èxit. ID: 4196\n"
     ]
    },
    {
     "name": "stdout",
     "output_type": "stream",
     "text": [
      "INFO: Operació completada amb èxit. ID: 4196\n"
     ]
    },
    {
     "name": "stderr",
     "output_type": "stream",
     "text": [
      "2024-11-22 19:00:48,334 - ERROR - Error en l'operació. Codi: E115\n"
     ]
    },
    {
     "name": "stdout",
     "output_type": "stream",
     "text": [
      "ERROR: Error en l'operació. Codi: E115\n"
     ]
    },
    {
     "name": "stderr",
     "output_type": "stream",
     "text": [
      "2024-11-22 19:00:50,338 - ERROR - Error en l'operació. Codi: E280\n"
     ]
    },
    {
     "name": "stdout",
     "output_type": "stream",
     "text": [
      "ERROR: Error en l'operació. Codi: E280\n"
     ]
    },
    {
     "name": "stderr",
     "output_type": "stream",
     "text": [
      "2024-11-22 19:00:52,340 - ERROR - Error en l'operació. Codi: E748\n"
     ]
    },
    {
     "name": "stdout",
     "output_type": "stream",
     "text": [
      "ERROR: Error en l'operació. Codi: E748\n"
     ]
    },
    {
     "name": "stderr",
     "output_type": "stream",
     "text": [
      "2024-11-22 19:00:54,344 - INFO - Operació completada amb èxit. ID: 9837\n"
     ]
    },
    {
     "name": "stdout",
     "output_type": "stream",
     "text": [
      "INFO: Operació completada amb èxit. ID: 9837\n"
     ]
    },
    {
     "name": "stderr",
     "output_type": "stream",
     "text": [
      "2024-11-22 19:00:56,348 - ERROR - Error en l'operació. Codi: E639\n"
     ]
    },
    {
     "name": "stdout",
     "output_type": "stream",
     "text": [
      "ERROR: Error en l'operació. Codi: E639\n"
     ]
    },
    {
     "name": "stderr",
     "output_type": "stream",
     "text": [
      "2024-11-22 19:00:58,350 - ERROR - Error en l'operació. Codi: E222\n"
     ]
    },
    {
     "name": "stdout",
     "output_type": "stream",
     "text": [
      "ERROR: Error en l'operació. Codi: E222\n"
     ]
    },
    {
     "name": "stderr",
     "output_type": "stream",
     "text": [
      "2024-11-22 19:01:00,352 - ERROR - Error en l'operació. Codi: E777\n"
     ]
    },
    {
     "name": "stdout",
     "output_type": "stream",
     "text": [
      "ERROR: Error en l'operació. Codi: E777\n"
     ]
    },
    {
     "name": "stderr",
     "output_type": "stream",
     "text": [
      "2024-11-22 19:01:02,356 - INFO - Operació completada amb èxit. ID: 1491\n"
     ]
    },
    {
     "name": "stdout",
     "output_type": "stream",
     "text": [
      "INFO: Operació completada amb èxit. ID: 1491\n"
     ]
    },
    {
     "name": "stderr",
     "output_type": "stream",
     "text": [
      "2024-11-22 19:01:04,358 - INFO - Operació completada amb èxit. ID: 7833\n"
     ]
    },
    {
     "name": "stdout",
     "output_type": "stream",
     "text": [
      "INFO: Operació completada amb èxit. ID: 7833\n"
     ]
    },
    {
     "name": "stderr",
     "output_type": "stream",
     "text": [
      "2024-11-22 19:01:06,363 - ERROR - Error en l'operació. Codi: E667\n"
     ]
    },
    {
     "name": "stdout",
     "output_type": "stream",
     "text": [
      "ERROR: Error en l'operació. Codi: E667\n"
     ]
    },
    {
     "name": "stderr",
     "output_type": "stream",
     "text": [
      "2024-11-22 19:01:08,364 - ERROR - Error en l'operació. Codi: E891\n"
     ]
    },
    {
     "name": "stdout",
     "output_type": "stream",
     "text": [
      "ERROR: Error en l'operació. Codi: E891\n"
     ]
    },
    {
     "name": "stderr",
     "output_type": "stream",
     "text": [
      "2024-11-22 19:01:10,369 - ERROR - Error en l'operació. Codi: E292\n"
     ]
    },
    {
     "name": "stdout",
     "output_type": "stream",
     "text": [
      "ERROR: Error en l'operació. Codi: E292\n"
     ]
    },
    {
     "name": "stderr",
     "output_type": "stream",
     "text": [
      "2024-11-22 19:01:12,374 - ERROR - Error en l'operació. Codi: E749\n"
     ]
    },
    {
     "name": "stdout",
     "output_type": "stream",
     "text": [
      "ERROR: Error en l'operació. Codi: E749\n"
     ]
    },
    {
     "name": "stderr",
     "output_type": "stream",
     "text": [
      "2024-11-22 19:01:14,377 - ERROR - Error en l'operació. Codi: E609\n"
     ]
    },
    {
     "name": "stdout",
     "output_type": "stream",
     "text": [
      "ERROR: Error en l'operació. Codi: E609\n"
     ]
    },
    {
     "name": "stderr",
     "output_type": "stream",
     "text": [
      "2024-11-22 19:01:16,382 - ERROR - Error en l'operació. Codi: E937\n"
     ]
    },
    {
     "name": "stdout",
     "output_type": "stream",
     "text": [
      "ERROR: Error en l'operació. Codi: E937\n"
     ]
    },
    {
     "name": "stderr",
     "output_type": "stream",
     "text": [
      "2024-11-22 19:01:18,388 - ERROR - Error en l'operació. Codi: E147\n"
     ]
    },
    {
     "name": "stdout",
     "output_type": "stream",
     "text": [
      "ERROR: Error en l'operació. Codi: E147\n"
     ]
    },
    {
     "name": "stderr",
     "output_type": "stream",
     "text": [
      "2024-11-22 19:01:20,393 - ERROR - Error en l'operació. Codi: E780\n"
     ]
    },
    {
     "name": "stdout",
     "output_type": "stream",
     "text": [
      "ERROR: Error en l'operació. Codi: E780\n"
     ]
    },
    {
     "name": "stderr",
     "output_type": "stream",
     "text": [
      "2024-11-22 19:01:22,399 - INFO - Operació completada amb èxit. ID: 2951\n"
     ]
    },
    {
     "name": "stdout",
     "output_type": "stream",
     "text": [
      "INFO: Operació completada amb èxit. ID: 2951\n"
     ]
    },
    {
     "name": "stderr",
     "output_type": "stream",
     "text": [
      "2024-11-22 19:01:24,405 - INFO - Operació completada amb èxit. ID: 5849\n"
     ]
    },
    {
     "name": "stdout",
     "output_type": "stream",
     "text": [
      "INFO: Operació completada amb èxit. ID: 5849\n"
     ]
    },
    {
     "name": "stderr",
     "output_type": "stream",
     "text": [
      "2024-11-22 19:01:26,410 - ERROR - Error en l'operació. Codi: E607\n"
     ]
    },
    {
     "name": "stdout",
     "output_type": "stream",
     "text": [
      "ERROR: Error en l'operació. Codi: E607\n",
      "\n",
      "Programa aturat per l'usuari.\n"
     ]
    }
   ],
   "source": [
    "import time\n",
    "import random\n",
    "import logging\n",
    "\n",
    "# Configurar el logging\n",
    "logging.basicConfig(level=logging.INFO, format='%(asctime)s - %(levelname)s - %(message)s')\n",
    "\n",
    "# Crear handlers per als fitxers\n",
    "info_handler = logging.FileHandler('info.log')\n",
    "info_handler.setLevel(logging.INFO)\n",
    "error_handler = logging.FileHandler('error.log')\n",
    "error_handler.setLevel(logging.ERROR)\n",
    "\n",
    "# Afegir els handlers al logger\n",
    "logger = logging.getLogger()\n",
    "logger.addHandler(info_handler)\n",
    "logger.addHandler(error_handler)\n",
    "\n",
    "def generate_log():\n",
    "    # Genera un missatge de log aleatori.\n",
    "    if random.choice([True, False]):\n",
    "        return \"INFO\", f\"Operació completada amb èxit. ID: {random.randint(1000, 9999)}\"\n",
    "    else:\n",
    "        return \"ERROR\", f\"Error en l'operació. Codi: E{random.randint(100, 999)}\"\n",
    "\n",
    "try:\n",
    "    while True:\n",
    "        log_type, message = generate_log()\n",
    "        \n",
    "        if log_type == \"INFO\":\n",
    "            logger.info(message)\n",
    "            print(f\"INFO: {message}\")\n",
    "        else:\n",
    "            logger.error(message)\n",
    "            print(f\"ERROR: {message}\")\n",
    "        \n",
    "        time.sleep(2)  # Esperar 2 segons abans de generar el següent log\n",
    "\n",
    "except KeyboardInterrupt:\n",
    "    print(\"\\nPrograma aturat per l'usuari.\")"
   ]
  },
  {
   "cell_type": "code",
   "execution_count": 7,
   "id": "f0115316-9c0b-44a1-a702-4388d13ec36e",
   "metadata": {},
   "outputs": [
    {
     "name": "stderr",
     "output_type": "stream",
     "text": [
      "2024-11-29 18:41:15,764 - INFO - Operació completada amb èxit. ID: 8685\n",
      "Operació completada amb èxit. ID: 8685\n",
      "Operació completada amb èxit. ID: 8685\n",
      "2024-11-29 18:41:15,767 - INFO - Operació completada amb èxit. ID: 8685\n",
      "Operació completada amb èxit. ID: 8685\n",
      "Operació completada amb èxit. ID: 8685\n"
     ]
    },
    {
     "name": "stdout",
     "output_type": "stream",
     "text": [
      "INFO: Operació completada amb èxit. ID: 8685\n"
     ]
    },
    {
     "name": "stderr",
     "output_type": "stream",
     "text": [
      "2024-11-29 18:41:17,771 - INFO - Operació completada amb èxit. ID: 2779\n",
      "Operació completada amb èxit. ID: 2779\n",
      "Operació completada amb èxit. ID: 2779\n",
      "2024-11-29 18:41:17,778 - INFO - Operació completada amb èxit. ID: 2779\n",
      "Operació completada amb èxit. ID: 2779\n",
      "Operació completada amb èxit. ID: 2779\n"
     ]
    },
    {
     "name": "stdout",
     "output_type": "stream",
     "text": [
      "INFO: Operació completada amb èxit. ID: 2779\n"
     ]
    },
    {
     "name": "stderr",
     "output_type": "stream",
     "text": [
      "2024-11-29 18:41:19,788 - INFO - Operació completada amb èxit. ID: 8202\n",
      "Operació completada amb èxit. ID: 8202\n",
      "Operació completada amb èxit. ID: 8202\n",
      "2024-11-29 18:41:19,795 - INFO - Operació completada amb èxit. ID: 8202\n",
      "Operació completada amb èxit. ID: 8202\n",
      "Operació completada amb èxit. ID: 8202\n"
     ]
    },
    {
     "name": "stdout",
     "output_type": "stream",
     "text": [
      "INFO: Operació completada amb èxit. ID: 8202\n"
     ]
    },
    {
     "name": "stderr",
     "output_type": "stream",
     "text": [
      "2024-11-29 18:41:21,803 - INFO - Operació completada amb èxit. ID: 6517\n",
      "Operació completada amb èxit. ID: 6517\n",
      "Operació completada amb èxit. ID: 6517\n",
      "2024-11-29 18:41:21,809 - INFO - Operació completada amb èxit. ID: 6517\n",
      "Operació completada amb èxit. ID: 6517\n",
      "Operació completada amb èxit. ID: 6517\n"
     ]
    },
    {
     "name": "stdout",
     "output_type": "stream",
     "text": [
      "INFO: Operació completada amb èxit. ID: 6517\n"
     ]
    },
    {
     "name": "stderr",
     "output_type": "stream",
     "text": [
      "2024-11-29 18:41:23,813 - INFO - Operació completada amb èxit. ID: 4923\n",
      "Operació completada amb èxit. ID: 4923\n",
      "Operació completada amb èxit. ID: 4923\n",
      "2024-11-29 18:41:23,819 - INFO - Operació completada amb èxit. ID: 4923\n",
      "Operació completada amb èxit. ID: 4923\n",
      "Operació completada amb èxit. ID: 4923\n"
     ]
    },
    {
     "name": "stdout",
     "output_type": "stream",
     "text": [
      "INFO: Operació completada amb èxit. ID: 4923\n"
     ]
    },
    {
     "name": "stderr",
     "output_type": "stream",
     "text": [
      "2024-11-29 18:41:25,825 - ERROR - Error en l'operació. Codi: E738\n",
      "Error en l'operació. Codi: E738\n",
      "Error en l'operació. Codi: E738\n"
     ]
    },
    {
     "name": "stdout",
     "output_type": "stream",
     "text": [
      "ERROR: Error en l'operació. Codi: E738\n"
     ]
    },
    {
     "name": "stderr",
     "output_type": "stream",
     "text": [
      "2024-11-29 18:41:27,837 - INFO - Operació completada amb èxit. ID: 9172\n",
      "Operació completada amb èxit. ID: 9172\n",
      "Operació completada amb èxit. ID: 9172\n",
      "2024-11-29 18:41:27,844 - INFO - Operació completada amb èxit. ID: 9172\n",
      "Operació completada amb èxit. ID: 9172\n",
      "Operació completada amb èxit. ID: 9172\n"
     ]
    },
    {
     "name": "stdout",
     "output_type": "stream",
     "text": [
      "INFO: Operació completada amb èxit. ID: 9172\n"
     ]
    },
    {
     "name": "stderr",
     "output_type": "stream",
     "text": [
      "2024-11-29 18:41:29,848 - ERROR - Error en l'operació. Codi: E942\n",
      "Error en l'operació. Codi: E942\n",
      "Error en l'operació. Codi: E942\n"
     ]
    },
    {
     "name": "stdout",
     "output_type": "stream",
     "text": [
      "ERROR: Error en l'operació. Codi: E942\n"
     ]
    },
    {
     "name": "stderr",
     "output_type": "stream",
     "text": [
      "2024-11-29 18:41:31,858 - INFO - Operació completada amb èxit. ID: 3205\n",
      "Operació completada amb èxit. ID: 3205\n",
      "Operació completada amb èxit. ID: 3205\n",
      "2024-11-29 18:41:31,860 - INFO - Operació completada amb èxit. ID: 3205\n",
      "Operació completada amb èxit. ID: 3205\n",
      "Operació completada amb èxit. ID: 3205\n"
     ]
    },
    {
     "name": "stdout",
     "output_type": "stream",
     "text": [
      "INFO: Operació completada amb èxit. ID: 3205\n",
      "\n",
      "Programa aturat per l'usuari.\n"
     ]
    }
   ],
   "source": [
    "import time\n",
    "import random\n",
    "import logging\n",
    "import csv\n",
    "\n",
    "# Configurar el logging\n",
    "logging.basicConfig(level=logging.INFO, format='%(asctime)s - %(levelname)s - %(message)s')\n",
    "\n",
    "# Crear handlers per als fitxers\n",
    "info_handler = logging.FileHandler('info.log')\n",
    "info_handler.setLevel(logging.INFO)\n",
    "\n",
    "error_handler = logging.FileHandler('error.log')\n",
    "error_handler.setLevel(logging.ERROR)\n",
    "\n",
    "# Crear un handler per a pantalla\n",
    "console_handler = logging.StreamHandler()\n",
    "console_handler.setLevel(logging.INFO)\n",
    "\n",
    "# Afegir els handlers al logger principal\n",
    "logger = logging.getLogger()\n",
    "logger.addHandler(info_handler)\n",
    "logger.addHandler(error_handler)\n",
    "logger.addHandler(console_handler)\n",
    "\n",
    "# Crear un segon logger per a CSV\n",
    "csv_logger = logging.getLogger('csv_logger')\n",
    "csv_handler = logging.FileHandler('log.csv')\n",
    "csv_handler.setLevel(logging.INFO)\n",
    "\n",
    "# Definir un formatador específic per a CSV\n",
    "csv_formatter = logging.Formatter('%(asctime)s, %(levelname)s, %(message)s')\n",
    "csv_handler.setFormatter(csv_formatter)\n",
    "\n",
    "# Afegir el handler al logger de CSV\n",
    "csv_logger.addHandler(csv_handler)\n",
    "csv_logger.setLevel(logging.INFO)\n",
    "\n",
    "# Funció per generar logs aleatoris\n",
    "def generate_log():\n",
    "    if random.choice([True, False]):\n",
    "        return \"INFO\", f\"Operació completada amb èxit. ID: {random.randint(1000, 9999)}\"\n",
    "    else:\n",
    "        return \"ERROR\", f\"Error en l'operació. Codi: E{random.randint(100, 999)}\"\n",
    "\n",
    "try:\n",
    "    while True:\n",
    "        log_type, message = generate_log()\n",
    "        \n",
    "        if log_type == \"INFO\":\n",
    "            logger.info(message)  # Escriure al logger principal\n",
    "            csv_logger.info(message)  # Escriure al logger CSV\n",
    "            print(f\"INFO: {message}\")\n",
    "        else:\n",
    "            logger.error(message)\n",
    "            print(f\"ERROR: {message}\")\n",
    "        \n",
    "        time.sleep(2)  # Esperar 2 segons abans de generar el següent log\n",
    "\n",
    "except KeyboardInterrupt:\n",
    "    print(\"\\nPrograma aturat per l'usuari.\")\n"
   ]
  },
  {
   "cell_type": "code",
   "execution_count": null,
   "id": "577200db-91e0-4c46-937f-67c3bb18feda",
   "metadata": {},
   "outputs": [],
   "source": []
  }
 ],
 "metadata": {
  "kernelspec": {
   "display_name": "Python 3 (ipykernel)",
   "language": "python",
   "name": "python3"
  },
  "language_info": {
   "codemirror_mode": {
    "name": "ipython",
    "version": 3
   },
   "file_extension": ".py",
   "mimetype": "text/x-python",
   "name": "python",
   "nbconvert_exporter": "python",
   "pygments_lexer": "ipython3",
   "version": "3.12.7"
  }
 },
 "nbformat": 4,
 "nbformat_minor": 5
}
