{
 "cells": [
  {
   "cell_type": "code",
   "execution_count": null,
   "id": "746eb818-b165-45e0-96e8-75a72200fdcd",
   "metadata": {},
   "outputs": [],
   "source": [
    "tail -f /etc/mp/fitxer.log Per analitzar els logs de un fitxer.log. "
   ]
  },
  {
   "cell_type": "code",
   "execution_count": null,
   "id": "281b0f13-d426-40a4-96f1-2f10341a3cc9",
   "metadata": {},
   "outputs": [],
   "source": [
    "grep \"paraula_a_cercar\" /etc/mp/fitxer.log Per trobar la paraula encronquet dintre del fitxer log."
   ]
  },
  {
   "cell_type": "code",
   "execution_count": null,
   "id": "2c38f59d-e74c-4c98-b67b-0caa73d13e8d",
   "metadata": {},
   "outputs": [],
   "source": []
  },
  {
   "cell_type": "code",
   "execution_count": null,
   "id": "3ff21b12-b9e6-48cd-9e8b-f5460b3f9c72",
   "metadata": {},
   "outputs": [],
   "source": [
    "El concepte logging és molt important en la programació, alhora que està estrictament\n",
    "relacionat amb el tema que estem treballant. Un log en el nostre àmbit vindria a ser\n",
    "un fitxer que conté dades relacionades amb els principals esdeveniments i successos\n",
    "que ocorren en un programa o en un sistema operatiu, així doncs, ja sigui per saber\n",
    "en quin punt hem tingut un error, perquè l&#39;execució del programa no ha anat bé, o\n",
    "quina sèrie de passes ha seguit una persona mentre utilitzava la nostra aplicació i\n",
    "moltes altres utilitats, els Logs són vitals al món del software.\n",
    "\n",
    "\n"
   ]
  }
 ],
 "metadata": {
  "kernelspec": {
   "display_name": "",
   "name": ""
  },
  "language_info": {
   "name": ""
  }
 },
 "nbformat": 4,
 "nbformat_minor": 5
}
